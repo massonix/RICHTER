{
 "cells": [
  {
   "cell_type": "markdown",
   "metadata": {},
   "source": [
    "# Trajectory inference and RNA velocity\n",
    "\n",
    "## Introduction\n",
    "\n",
    "In this notebook, we aim to accomplish 3 objectives:\n",
    "\n",
    "1. Infer the trajectories of the CLL subclones using PAGA.\n",
    "2. Give directionality to such trajectories with RNA velocity.\n",
    "3. Find which genes change their expression as a funciton of pseudotime.\n",
    "\n",
    "## Pre-processing\n",
    "\n",
    "### Import packages"
   ]
  },
  {
   "cell_type": "code",
   "execution_count": 1,
   "metadata": {},
   "outputs": [],
   "source": [
    "import numpy as np\n",
    "import pandas as pd\n",
    "import matplotlib.pyplot as plt\n",
    "from matplotlib import rcParams\n",
    "from matplotlib import colors\n",
    "import seaborn as sns\n",
    "import scipy as sp\n",
    "from scipy.interpolate import make_interp_spline, BSpline\n",
    "import igraph\n",
    "import scanpy as sc\n",
    "import loompy\n",
    "import scvelo as scv"
   ]
  },
  {
   "cell_type": "code",
   "execution_count": 2,
   "metadata": {},
   "outputs": [
    {
     "name": "stdout",
     "output_type": "stream",
     "text": [
      "scanpy==1.4.5.post2 anndata==0.7.1 umap==0.3.10 numpy==1.17.5 scipy==1.4.1 pandas==0.25.3 scikit-learn==0.22.1 statsmodels==0.11.0 python-igraph==0.7.1\n"
     ]
    }
   ],
   "source": [
    "plt.rcParams['figure.figsize']=(8,8) #rescale figures\n",
    "sc.settings.verbosity = 3\n",
    "#sc.set_figure_params(dpi=200, dpi_save=300)\n",
    "sc.logging.print_versions()"
   ]
  },
  {
   "cell_type": "markdown",
   "metadata": {},
   "source": [
    "### Load data\n",
    "\n",
    "In previous R markdown notebooks we save a Seurat list containing three fully demultiplexed, filtered, normalized, clustered and annotated Seurat objects. Each object corresponds to one chronic lymphocytic leukemia (CLL) patient (annotated as IGCG_012, ICGC_019 and ICGC_365). For each of them, we have serial peripheral blood samples at different stages of the diseases, starting at diagnosis end ending in Richter transformation.\n",
    "\n",
    "Before working with PAGA, we need to convert the Seurat object to anndata object, which we will accomplish with the [`sceasy` package](https://github.com/cellgeni/sceasy):"
   ]
  },
  {
   "cell_type": "code",
   "execution_count": null,
   "metadata": {},
   "outputs": [],
   "source": [
    "%R%\n",
    "reticulate::use_conda_env(\"/opt/anaconda3/envs/scanpy3\")\n",
    "richter_l_seurat <- readRDS(\"results/R_objects/richter_seurat_patients_list_clustered.rds\")\n",
    "for (seurat in richter_l_seurat) {\n",
    "    sceasy::convertFormat(\n",
    "        seurat, \n",
    "        from = \"seurat\", \n",
    "        to = \"anndata\", \n",
    "        outFile = \"results/anndata_objects/\"richter_seurat_patients_list_clustered\")\n",
    "}"
   ]
  },
  {
   "cell_type": "markdown",
   "metadata": {},
   "source": [
    "## RNA velocity"
   ]
  },
  {
   "cell_type": "code",
   "execution_count": 4,
   "metadata": {},
   "outputs": [
    {
     "name": "stderr",
     "output_type": "stream",
     "text": [
      "WARNING:root:╭── 'batch_scan_layers' is deprecated. Use 'scan' instead\n",
      "WARNING:root:╰──> at /opt/anaconda3/envs/scanpy3/lib/python3.7/site-packages/loompy/loompy.py, line 465\n"
     ]
    }
   ],
   "source": [
    "files_012 = [\"data/BCLLATLAS_10/ICGC_012_01/velocyto/ICGC_012_01.loom\",\n",
    "         \"data/BCLLATLAS_10/ICGC_012_02/velocyto/ICGC_012_02.loom\"]\n",
    "output_name_012 = \"data/BCLLATLAS_10/ICGC_012_01/velocyto/ICGC_012_01_02.loom\"\n",
    "loompy.combine(files_012, output_file = output_name_012, key = \"Accession\")"
   ]
  },
  {
   "cell_type": "code",
   "execution_count": 5,
   "metadata": {},
   "outputs": [
    {
     "name": "stderr",
     "output_type": "stream",
     "text": [
      "WARNING:root:╭── 'batch_scan_layers' is deprecated. Use 'scan' instead\n",
      "WARNING:root:╰──> at /opt/anaconda3/envs/scanpy3/lib/python3.7/site-packages/loompy/loompy.py, line 465\n"
     ]
    }
   ],
   "source": [
    "files_019 = [\"data/BCLLATLAS_10/ICGC_019_01/velocyto/ICGC_019_01.loom\",\n",
    "         \"data/BCLLATLAS_10/ICGC_019_02/velocyto/ICGC_019_02.loom\"]\n",
    "output_name_019 = \"data/BCLLATLAS_10/ICGC_019_01/velocyto/ICGC_019_01_02.loom\"\n",
    "loompy.combine(files_019, output_file = output_name_019, key = \"Accession\")"
   ]
  },
  {
   "cell_type": "code",
   "execution_count": 6,
   "metadata": {},
   "outputs": [
    {
     "name": "stderr",
     "output_type": "stream",
     "text": [
      "Variable names are not unique. To make them unique, call `.var_names_make_unique`.\n",
      "Variable names are not unique. To make them unique, call `.var_names_make_unique`.\n",
      "Variable names are not unique. To make them unique, call `.var_names_make_unique`.\n"
     ]
    }
   ],
   "source": [
    "output_name_365 = \"data/BCLLATLAS_10/ICGC_365/velocyto/ICGC_365.loom\"\n",
    "adata_scvelo_012 = sc.read_loom(output_name_012)\n",
    "adata_scvelo_019 = sc.read_loom(output_name_019)\n",
    "adata_scvelo_365 = sc.read_loom(output_name_365)"
   ]
  },
  {
   "cell_type": "code",
   "execution_count": 8,
   "metadata": {},
   "outputs": [],
   "source": [
    "adata_scvelo = [adata_scvelo_012, adata_scvelo_019, adata_scvelo_365]"
   ]
  },
  {
   "cell_type": "code",
   "execution_count": 9,
   "metadata": {},
   "outputs": [
    {
     "data": {
      "text/plain": [
       "[AnnData object with n_obs × n_vars = 13036 × 33538 \n",
       "     obs: 'Clusters', '_X', '_Y'\n",
       "     var: 'Accession', 'Chromosome', 'End', 'Start', 'Strand'\n",
       "     layers: 'matrix', 'ambiguous', 'spliced', 'unspliced',\n",
       " AnnData object with n_obs × n_vars = 25320 × 33538 \n",
       "     obs: 'Clusters', '_X', '_Y'\n",
       "     var: 'Accession', 'Chromosome', 'End', 'Start', 'Strand'\n",
       "     layers: 'matrix', 'ambiguous', 'spliced', 'unspliced',\n",
       " AnnData object with n_obs × n_vars = 5524 × 33538 \n",
       "     obs: 'Clusters', '_X', '_Y'\n",
       "     var: 'Accession', 'Chromosome', 'End', 'Start', 'Strand'\n",
       "     layers: 'matrix', 'ambiguous', 'spliced', 'unspliced']"
      ]
     },
     "execution_count": 9,
     "metadata": {},
     "output_type": "execute_result"
    }
   ],
   "source": [
    "adata_scvelo"
   ]
  }
 ],
 "metadata": {
  "kernelspec": {
   "display_name": "Python (scanpy3)",
   "language": "python",
   "name": "scanpy3"
  },
  "language_info": {
   "codemirror_mode": {
    "name": "ipython",
    "version": 3
   },
   "file_extension": ".py",
   "mimetype": "text/x-python",
   "name": "python",
   "nbconvert_exporter": "python",
   "pygments_lexer": "ipython3",
   "version": "3.7.6"
  }
 },
 "nbformat": 4,
 "nbformat_minor": 4
}
